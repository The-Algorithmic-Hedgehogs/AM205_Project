{
 "cells": [
  {
   "cell_type": "code",
   "execution_count": 1,
   "metadata": {},
   "outputs": [],
   "source": [
    "import numpy as np\n",
    "from scipy.optimize import minimize\n",
    "import matplotlib\n",
    "import numpy as np\n",
    "import matplotlib.cm as cm\n",
    "import matplotlib.mlab as mlab\n",
    "import matplotlib.pyplot as plt\n",
    "import math\n",
    "import scipy.optimize as optimize\n",
    "from scipy import integrate\n",
    "from matplotlib import rcParams"
   ]
  },
  {
   "cell_type": "code",
   "execution_count": 2,
   "metadata": {},
   "outputs": [],
   "source": [
    "#Define parameters from Elowitz paper\n",
    "alpha_ptc = 0.024;\n",
    "gamma_p = 0.006;\n",
    "gamma_c = 0.1539;\n",
    "K_h = 2.2771;\n",
    "k_off = 0.3018;\n",
    "k_on = K_h * k_off;\n",
    "K_p = 0.5660;\n",
    "n_p = 0.9;\n",
    "alpha_R = 0.3908;\n",
    "gamma_R = 0.002;\n",
    "K_R = 8.5184;\n",
    "n_R = 1.5735;\n",
    "alpha_GBS = 5.6881e-3;\n",
    "alpha_GBS0 = 9.8715e-5;\n",
    "D_diff = 58.3931;\n",
    "alpha_HH = 0.5431;\n",
    "gamma_H = 8.1346e-4;\n",
    "beta = 36;\n",
    "m = 1.8657;"
   ]
  },
  {
   "cell_type": "code",
   "execution_count": 23,
   "metadata": {},
   "outputs": [
    {
     "name": "stdout",
     "output_type": "stream",
     "text": [
      "195.39999999999998\n",
      "0.5991489300104573\n"
     ]
    }
   ],
   "source": [
    "print(alpha_R/ gamma_R)\n",
    "print(K_p**n_p)"
   ]
  },
  {
   "cell_type": "markdown",
   "metadata": {},
   "source": [
    "P = 4(1+36(29.10169999684341/(29.10169999684341+(195.39999999999998((P^0.9)/((P^0.9) + 0.5991489300104573)))^1.5735)))\n",
    "\n",
    "R = 195.39999999999998((5.25874^0.9)/((5.25874^0.9) + 0.5991489300104573))\n",
    "\n",
    "gives us:\n",
    "\n",
    "P = 5.25874\n",
    "\n",
    "R = 172.23357"
   ]
  },
  {
   "cell_type": "code",
   "execution_count": 15,
   "metadata": {},
   "outputs": [],
   "source": [
    "def d_matrix(n):\n",
    "    h = 1/(n-1)\n",
    "    D = (-2*np.identity(n))/(h**2)\n",
    "    for i in range(n-1):\n",
    "        D[i, i+1] = 1/(h**2)\n",
    "        D[i+1, i] = 1/(h**2)\n",
    "    D[-1] = 0\n",
    "    return D;"
   ]
  },
  {
   "cell_type": "code",
   "execution_count": 16,
   "metadata": {},
   "outputs": [],
   "source": [
    "diff_mat = d_matrix(1000);\n",
    "\n",
    "def delta_H(H, P, C, t): \n",
    "    del_H = D_diff*np.matmul(diff_mat, H) - gamma_H*H - k_off*H*P + k_on*C;\n",
    "    for i in range(len(H)):\n",
    "        if H[i] + (del_H[i] * t) < 0:\n",
    "            del_H[i] = -H[i]/t;\n",
    "    #alter boundary conditions\n",
    "    del_H[0] += alpha_HH;         \n",
    "    del_H[-1] = 0;\n",
    "    return del_H;\n",
    "\n",
    "def phi_R(R, n):\n",
    "    phi = np.zeros(n)\n",
    "    for i in range(n):\n",
    "        phi[i] = (K_R**n_R)/((K_R**n_R)+(R[i]**n_R))\n",
    "    return phi;\n",
    "\n",
    "def delta_P(H, P, R, C, t):\n",
    "    n = len(H);\n",
    "    delta = (alpha_ptc*np.ones(n)) + (alpha_ptc*beta*phi_R(R, n)) - (gamma_p*P) - (k_on*H*P) + (k_off*C)\n",
    "    for i in range(n):\n",
    "        if P[i] + (delta[i]*t) < 0:\n",
    "            delta[i] = -P[i]/t;\n",
    "    return delta;\n",
    "\n",
    "def delta_C(H, P, C, t):\n",
    "    n = len(H);\n",
    "    delta = (k_on*H*P) - (k_off*C) - (gamma_c*C)\n",
    "    for i in range(n):\n",
    "        if C[i] + (delta[i]*t) < 0:\n",
    "            delta[i] = -C[i]/t;\n",
    "    return delta;\n",
    "\n",
    "def delta_R(P, R, t):\n",
    "    n = len(P);\n",
    "    delta = np.zeros(n)\n",
    "    for i in range(n):\n",
    "        delta[i] = (alpha_R*(P[i]**n_p)/((K_p**n_p)-(P[i]**n_p))) - (gamma_R*R[i])\n",
    "    for i in range(n):\n",
    "        if R[i] + (delta[i]*t) < 0:\n",
    "            delta[i] = -R[i]/t;\n",
    "    return delta;\n",
    "\n",
    "def delta_S(R, S, t):\n",
    "    n = len(R);\n",
    "    delta = (alpha_GBS0*np.ones(n)) - (alpha_GBS*phi_R(R, n))\n",
    "    for i in range(n):\n",
    "        if S[i] + (delta[i]*t) < 0:\n",
    "            delta[i] = -S[i]/t;\n",
    "    return delta;"
   ]
  },
  {
   "cell_type": "code",
   "execution_count": 17,
   "metadata": {},
   "outputs": [],
   "source": [
    "#define our model function to pass into odeint\n",
    "def model(t, varlist):\n",
    "    varlist_mat = varlist.reshape(1000, 5);\n",
    "    #get the values from varlist. This order corresponds to the order in which we passed in the variables to odeint\n",
    "    h_vals = varlist_mat[:, 0];\n",
    "    p_vals = varlist_mat[:, 1];\n",
    "    c_vals = varlist_mat[:, 2];\n",
    "    r_vals = varlist_mat[:, 3];\n",
    "    s_vals = varlist_mat[:, 4];\n",
    "    \n",
    "    t = 10**(-3);\n",
    "    delta_h = delta_H(h_vals, p_vals, c_vals, t);\n",
    "    delta_p = delta_P(h_vals, p_vals, r_vals, c_vals, t);\n",
    "    delta_c = delta_C(h_vals, p_vals, c_vals, t);\n",
    "    delta_r = delta_R(p_vals, r_vals, t);\n",
    "    delta_s = delta_S(r_vals, s_vals, t);\n",
    "        \n",
    "    deltas_list = np.array([delta_h, delta_p, delta_c, delta_r, delta_s]); #list to store the deltas for each variable at each x-position\n",
    "\n",
    "    return deltas_list.reshape(5000,);\n",
    "    "
   ]
  },
  {
   "cell_type": "code",
   "execution_count": 18,
   "metadata": {},
   "outputs": [],
   "source": [
    "def integrate_system(final_time, n):\n",
    "    #vectors for H, C, S are zeroes at start\n",
    "    H = np.zeros(n);\n",
    "    C = np.zeros(n);\n",
    "    S = np.zeros(n);\n",
    "    #for each P and R are the same. Calculated analytically at steady-state\n",
    "    P = 23.2376*np.ones(n)\n",
    "    R = 188.735*np.ones(n)\n",
    "\n",
    "    time = np.arange(0, final_time, 10**-7);\n",
    "    start_vals = np.array([H, P, C, R, S]).reshape(5000,);\n",
    "    t0 = 0;\n",
    "    \n",
    "#     print(start_vals.shape)\n",
    "#     results = integrate.odeint(model, start_vals, time)\n",
    "    o = integrate.ode(model).set_integrator('vode', method='bdf', order=15);\n",
    "    o.set_initial_value(start_vals, t0); #set the start values\n",
    "    \n",
    "    dt = 10**(-5);\n",
    "    timepoints = [];\n",
    "    results = [];\n",
    "    while o.successful() and o.t < final_time: #keep looping while time for model is less than the final time\n",
    "        o.integrate(o.t + dt); #integrate for next time point\n",
    "        timepoints.append(o.t); #get the exact time for new time point \n",
    "        results.append(o.y.reshape(1000,5)); #get the values for each protein at each point\n",
    "    \n",
    "    return np.array(results);"
   ]
  },
  {
   "cell_type": "code",
   "execution_count": 19,
   "metadata": {
    "scrolled": false
   },
   "outputs": [
    {
     "name": "stderr",
     "output_type": "stream",
     "text": [
      "/Users/bhavenpatel/anaconda3/lib/python3.6/site-packages/ipykernel_launcher.py:16: RuntimeWarning: invalid value encountered in double_scalars\n",
      "  app.launch_new_instance()\n",
      "/Users/bhavenpatel/anaconda3/lib/python3.6/site-packages/ipykernel_launcher.py:39: RuntimeWarning: invalid value encountered in double_scalars\n",
      "/Users/bhavenpatel/anaconda3/lib/python3.6/site-packages/scipy/integrate/_ode.py:1009: UserWarning: vode: Repeated convergence failures. (Perhaps bad Jacobian supplied or wrong choice of MF or tolerances.)\n",
      "  self.messages.get(istate, unexpected_istate_msg)))\n"
     ]
    },
    {
     "data": {
      "text/plain": [
       "(1, 1000, 5)"
      ]
     },
     "execution_count": 19,
     "metadata": {},
     "output_type": "execute_result"
    }
   ],
   "source": [
    "results = integrate_system(10, 1000)\n",
    "results.shape"
   ]
  },
  {
   "cell_type": "code",
   "execution_count": 44,
   "metadata": {},
   "outputs": [
    {
     "data": {
      "image/png": "[encoded data removed]",
      "text/plain": [
       "<Figure size 1080x504 with 1 Axes>"
      ]
     },
     "metadata": {},
     "output_type": "display_data"
    }
   ],
   "source": [
    "last_time = results[-1].reshape(1000,5);\n",
    "\n",
    "fig, ax = plt.subplots(figsize=(15, 7))\n",
    "ax.grid(True, lw=1.76, ls='--', alpha = 0.15)\n",
    "plt.plot(last_time[:,4], '', color = 'b', ms =10)\n",
    "plt.show()"
   ]
  }
 ],
 "metadata": {
  "kernelspec": {
   "display_name": "Python 3",
   "language": "python",
   "name": "python3"
  },
  "language_info": {
   "codemirror_mode": {
    "name": "ipython",
    "version": 3
   },
   "file_extension": ".py",
   "mimetype": "text/x-python",
   "name": "python",
   "nbconvert_exporter": "python",
   "pygments_lexer": "ipython3",
   "version": "3.6.5"
  }
 },
 "nbformat": 4,
 "nbformat_minor": 2
}
