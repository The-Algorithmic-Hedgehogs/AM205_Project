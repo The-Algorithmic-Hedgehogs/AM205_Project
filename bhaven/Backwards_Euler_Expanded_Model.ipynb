{
 "cells": [
  {
   "cell_type": "code",
   "execution_count": 2,
   "metadata": {},
   "outputs": [],
   "source": [
    "import numpy as np\n",
    "from scipy.optimize import minimize\n",
    "import matplotlib\n",
    "import numpy as np\n",
    "import matplotlib.cm as cm\n",
    "import matplotlib.mlab as mlab\n",
    "import matplotlib.pyplot as plt\n",
    "import math\n",
    "import scipy.optimize as optimize\n",
    "from scipy import integrate"
   ]
  },
  {
   "cell_type": "code",
   "execution_count": 3,
   "metadata": {},
   "outputs": [],
   "source": [
    "#Define parameters from paper\n",
    "\n",
    "alpha_ptc = 0.024\n",
    "gamma_p = 0.006\n",
    "gamma_c = 0.1539\n",
    "K_h = 2.2771\n",
    "k_off = 0.3018\n",
    "k_on = K_h * k_off\n",
    "K_p = 0.5660\n",
    "n_p = 0.9\n",
    "alpha_R = 0.3908\n",
    "gamma_R = 0.002\n",
    "K_R = 8.5184\n",
    "n_R = 1.5735\n",
    "alpha_GBS = 5.6881e-3\n",
    "alpha_GBS0 = 9.8715e-5\n",
    "D_diff = 58.3931\n",
    "alpha_HH = 0.5431\n",
    "gamma_H = 8.1346e-4\n",
    "beta = 36\n",
    "m = 1.8657"
   ]
  },
  {
   "cell_type": "code",
   "execution_count": 4,
   "metadata": {},
   "outputs": [],
   "source": [
    "def create_d_matrix(n):\n",
    "    h = 1/(n-1)\n",
    "    D = -2*np.identity(n)\n",
    "    \n",
    "    for i in range(n-1):\n",
    "        D[i+1, i] = 1\n",
    "        D[i, i+1] = 1\n",
    "        \n",
    "    D[n-1] = 0\n",
    "    D[0,1] = 2\n",
    "    \n",
    "    return D"
   ]
  },
  {
   "cell_type": "code",
   "execution_count": 39,
   "metadata": {},
   "outputs": [],
   "source": [
    "def update_H(H, P, C, t, D):\n",
    "    n = len(H)\n",
    "    h = 1/(n-1)\n",
    "    alpha = (D_diff*t)/(h**2)\n",
    "    M = H - (gamma_H*H) - (k_on*H*P) + (k_off*C)\n",
    "    M[0] += (alpha_HH/D_diff)*2*h*alpha\n",
    "    Differentiation_Matrix = D\n",
    "    A = np.identity(n) - alpha*Differentiation_Matrix\n",
    "    future_H = np.linalg.solve(A, M)\n",
    "    future_H[future_H<0] = 0\n",
    "    return future_H\n",
    "\n",
    "def phi_R(R):\n",
    "    n = len(R)\n",
    "    phi = (K_R**n_R)/((K_R**n_R)+(R**n_R))\n",
    "    return phi\n",
    "\n",
    "def update_P(H, P, R, C, t):\n",
    "    n = len(H)\n",
    "    delta = ((alpha_ptc)*np.ones(n)) + ((alpha_ptc)*beta*phi_R(R)) - (gamma_p*P) - (k_on*H*P) + (k_off*C)\n",
    "    future_P = P + delta*t\n",
    "    future_P[future_P<0] = 0\n",
    "    return future_P\n",
    "    \n",
    "def update_C(H, P, C, t):\n",
    "    n = len(H)\n",
    "    delta = (k_on*H*P) - (k_off*C) - (gamma_c*C)\n",
    "    future_C = C + delta*t\n",
    "    future_C[future_C<0] = 0\n",
    "            \n",
    "    return future_C\n",
    "\n",
    "def update_R(P, R, t):\n",
    "    n = len(P)\n",
    "    delta = np.zeros(n)\n",
    "    for i in range(n):\n",
    "        delta[i] = alpha_R*((P[i]**n_p)/((K_p**n_p)+(P[i]**n_p))) - (gamma_R*R[i])\n",
    "    future_R = R + delta*t\n",
    "    future_R[future_R<0] = 0\n",
    "    return future_R\n",
    "\n",
    "def update_S(R, S, t):\n",
    "    n = len(R)\n",
    "    delta = ((alpha_GBS0*np.ones(n)) + (alpha_GBS*phi_R(R))) #*1000\n",
    "    future_S = S + delta*t\n",
    "    future_S[future_S<0] = 0\n",
    "    return future_S"
   ]
  },
  {
   "cell_type": "code",
   "execution_count": 40,
   "metadata": {},
   "outputs": [],
   "source": [
    "def integrate_solution(final_time, time_step, n):\n",
    "    H = np.zeros(n)\n",
    "    C = np.zeros(n)\n",
    "    S = np.zeros(n)\n",
    "    P = 5.25*np.ones(n)\n",
    "    R = 172.23*np.ones(n) #188.735*np.ones(n)\n",
    "    D = create_d_matrix(n)\n",
    "    time = 0\n",
    "    Hs = H[0]\n",
    "    \n",
    "    hrs = int(np.floor( final_time / 60)); #number of hours we will simulate over\n",
    "    #make arrays to hold the values of each protein at each grid point at each hour\n",
    "    H_vals = np.zeros((hrs+1,n));\n",
    "    H_vals[0] = H; #initialize at t=0\n",
    "    C_vals = np.zeros((hrs+1,n));\n",
    "    C_vals[0] = C; #initialize at t=0\n",
    "    S_vals = np.zeros((hrs+1,n));\n",
    "    S_vals[0] = S; #initialize at t=0\n",
    "    P_vals = np.zeros((hrs+1,n));\n",
    "    P_vals[0] = P; #initialize at t=0\n",
    "    R_vals = np.zeros((hrs+1,n));\n",
    "    R_vals[0] = R; #initialize at t=0\n",
    "    \n",
    "    steps_each_hr = 60 / time_step + 1;\n",
    "    steps = 0\n",
    "    \n",
    "    while time<final_time:\n",
    "        #calculate the updates for each protein\n",
    "        H_upd = update_H(H, P, C, time_step, D);\n",
    "        P_upd = update_P(H, P, R, C, time_step);\n",
    "        C_upd = update_C(H, P, C, time_step);\n",
    "        R_upd = update_R(P, R, time_step);\n",
    "        S_upd = update_S(R, S, time_step);\n",
    "        #reassign each protein to new concentrations\n",
    "        H = H_upd;\n",
    "        P = P_upd;\n",
    "        C = C_upd;\n",
    "        R = R_upd;\n",
    "        S = S_upd;\n",
    "        \n",
    "        time += time_step #increment total time\n",
    "        steps +=1;\n",
    "        if steps == steps_each_hr : #we've reached an hour\n",
    "            #store protein concentrations at each grid point for this hour\n",
    "            index = int(time / 60);\n",
    "            print(\"Index to insert at:\", index);\n",
    "            H_vals[index] = H;\n",
    "            P_vals[index] = P;\n",
    "            R_vals[index] = R;\n",
    "            C_vals[index] = C;\n",
    "            S_vals[index] = S;\n",
    "            steps = 0; #reinitialize steps\n",
    "        #add results from last time step to matrices\n",
    "        H_vals[-1] = H;\n",
    "        P_vals[-1] = P;\n",
    "        R_vals[-1] = R;\n",
    "        C_vals[-1] = C;\n",
    "        S_vals[-1] = S;\n",
    "        \n",
    "        \n",
    "    return H_vals, P_vals, C_vals, R_vals, S_vals;"
   ]
  },
  {
   "cell_type": "code",
   "execution_count": 58,
   "metadata": {
    "scrolled": false
   },
   "outputs": [
    {
     "name": "stdout",
     "output_type": "stream",
     "text": [
      "Index to insert at: 1\n",
      "Index to insert at: 2\n",
      "Index to insert at: 3\n",
      "Index to insert at: 4\n",
      "Index to insert at: 5\n",
      "Index to insert at: 6\n",
      "Index to insert at: 7\n",
      "Index to insert at: 8\n",
      "Index to insert at: 9\n",
      "Index to insert at: 10\n",
      "Index to insert at: 11\n",
      "Index to insert at: 12\n",
      "Index to insert at: 13\n",
      "Index to insert at: 14\n",
      "Index to insert at: 15\n",
      "Index to insert at: 16\n",
      "Index to insert at: 17\n",
      "Index to insert at: 18\n",
      "Index to insert at: 19\n",
      "Index to insert at: 20\n",
      "Index to insert at: 21\n",
      "Index to insert at: 22\n",
      "Index to insert at: 23\n",
      "Index to insert at: 24\n",
      "Index to insert at: 25\n",
      "Index to insert at: 26\n",
      "Index to insert at: 27\n",
      "Index to insert at: 28\n",
      "Index to insert at: 29\n",
      "Time: 1.232299450000005 min\n"
     ]
    }
   ],
   "source": [
    "from time import clock\n",
    "\n",
    "c = clock();\n",
    "hrs_to_sim = 30\n",
    "H, P, C, R, S = integrate_solution(hrs_to_sim*60, 0.5, 500)\n",
    "stop = clock();\n",
    "\n",
    "print(\"Time: {0} min\".format( (stop-c)/60 ) );"
   ]
  },
  {
   "cell_type": "code",
   "execution_count": 59,
   "metadata": {},
   "outputs": [],
   "source": [
    "def normalize_S(S):\n",
    "    normed_S = S.copy()\n",
    "    normed_S = normed_S/np.max(normed_S)\n",
    "    normed_S = normed_S - np.min(normed_S)\n",
    "    normed_S = normed_S*1000\n",
    "    return normed_S"
   ]
  },
  {
   "cell_type": "code",
   "execution_count": 60,
   "metadata": {},
   "outputs": [],
   "source": [
    "normed_S_1 = normalize_S(S[1])\n",
    "normed_S_2 = normalize_S(S[9])\n",
    "normed_S_3 = normalize_S(S[19])\n",
    "normed_S_4 = normalize_S(S[29])"
   ]
  },
  {
   "cell_type": "code",
   "execution_count": 73,
   "metadata": {},
   "outputs": [
    {
     "name": "stdout",
     "output_type": "stream",
     "text": [
      "1\n",
      "2\n",
      "3\n",
      "4\n",
      "5\n",
      "6\n",
      "7\n",
      "8\n",
      "9\n",
      "10\n",
      "11\n",
      "12\n",
      "13\n",
      "14\n",
      "15\n",
      "16\n",
      "17\n",
      "18\n",
      "19\n",
      "20\n",
      "21\n",
      "22\n",
      "23\n",
      "24\n",
      "25\n",
      "26\n",
      "27\n",
      "28\n",
      "29\n"
     ]
    }
   ],
   "source": [
    "S0 = []\n",
    "for i in range(1, 30):\n",
    "    print(i)\n",
    "    normed_S = normalize_S(S[i])\n",
    "    S0.append(normed_S[400])"
   ]
  },
  {
   "cell_type": "code",
   "execution_count": 74,
   "metadata": {},
   "outputs": [
    {
     "data": {
      "image/png": "[encoded data removed]",
      "text/plain": [
       "<Figure size 1080x504 with 1 Axes>"
      ]
     },
     "metadata": {},
     "output_type": "display_data"
    }
   ],
   "source": [
    "fig, ax = plt.subplots(figsize=(15, 7))\n",
    "ax.grid(True, lw=1.76, ls='--', alpha = 0.15)\n",
    "plt.plot(S0, '', color = 'b')\n",
    "plt.xlim(0, 28)\n",
    "plt.show()"
   ]
  },
  {
   "cell_type": "code",
   "execution_count": 16,
   "metadata": {},
   "outputs": [],
   "source": [
    "prots = [H, P, C, R, S];\n",
    "names = [\"H\", \"P\", \"C\", \"R\", \"S\"];\n",
    "\n",
    "for i, p in enumerate(prots):\n",
    "    file_name = \"{0}_test_test.csv\".format(names[i]);\n",
    "    np.savetxt(file_name, p, delimiter=\",\");"
   ]
  }
 ],
 "metadata": {
  "kernelspec": {
   "display_name": "Python 3",
   "language": "python",
   "name": "python3"
  },
  "language_info": {
   "codemirror_mode": {
    "name": "ipython",
    "version": 3
   },
   "file_extension": ".py",
   "mimetype": "text/x-python",
   "name": "python",
   "nbconvert_exporter": "python",
   "pygments_lexer": "ipython3",
   "version": "3.6.5"
  }
 },
 "nbformat": 4,
 "nbformat_minor": 2
}
