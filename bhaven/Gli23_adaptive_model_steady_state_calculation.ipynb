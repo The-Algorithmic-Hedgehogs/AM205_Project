{
 "cells": [
  {
   "cell_type": "code",
   "execution_count": 1,
   "metadata": {},
   "outputs": [],
   "source": [
    "import numpy as np\n",
    "from scipy.optimize import minimize\n",
    "import matplotlib\n",
    "import numpy as np\n",
    "import matplotlib.cm as cm\n",
    "import matplotlib.mlab as mlab\n",
    "import matplotlib.pyplot as plt\n",
    "import math\n",
    "import scipy.optimize as optimize\n",
    "from scipy import integrate"
   ]
  },
  {
   "cell_type": "code",
   "execution_count": 2,
   "metadata": {},
   "outputs": [],
   "source": [
    "#Define parameters from paper\n",
    "alpha_ptc = 0.024\n",
    "gamma_p = 0.006\n",
    "gamma_c = 0.1067\n",
    "K_h = 1.8124\n",
    "k_off = 0.9157\n",
    "k_on = K_h * k_off\n",
    "K_p = 0.01\n",
    "n_p = 1.3007\n",
    "alpha_f = 0.7610\n",
    "gamma_f = 0.002\n",
    "alpha_a = 1.9996\n",
    "alpha_R2 = 0.00326\n",
    "alpha_R3 = 0.0315\n",
    "gamma_a = 0.02\n",
    "gamma_R = 0.002\n",
    "K_gli = 0.1501\n",
    "alpha_GBS = 0.0022\n",
    "alpha_GBS0 = 1.384e-4\n",
    "D = 52.3942\n",
    "alpha_HH = 0.4898\n",
    "gamma_H = 7.644e-6\n",
    "beta = 16\n",
    "m = 2.5595\n",
    "beta_fl = 2.3797"
   ]
  },
  {
   "cell_type": "code",
   "execution_count": 3,
   "metadata": {},
   "outputs": [],
   "source": [
    "def create_d_matrix(n):\n",
    "    h = 1/(n-1)\n",
    "    D = -2*np.identity(n) \n",
    "    for i in range(n-1):\n",
    "        D[i+1, i] = 1\n",
    "        D[i, i+1] = 1       \n",
    "    D[n-1] = 0\n",
    "    D[0,1] = 2    \n",
    "    return D"
   ]
  },
  {
   "cell_type": "code",
   "execution_count": 4,
   "metadata": {},
   "outputs": [],
   "source": [
    "def update_H(H, P, C, t):\n",
    "    n = len(H)\n",
    "    h = 1/(n-1)\n",
    "    alpha = (D_diff*t)/(h**2)\n",
    "    M = H - (gamma_H*H) - (k_on*H*P) + (k_off*C)\n",
    "    M[0] += (alpha_HH/D_diff)*2*h*alpha\n",
    "    Differentiation_Matrix = create_d_matrix(n)\n",
    "    A = np.identity(n) - alpha*Differentiation_Matrix\n",
    "    future_H = np.linalg.solve(A, M)\n",
    "      \n",
    "    for i in range(n):\n",
    "        if future_H[i] < 0:\n",
    "            future_H[i] = 0\n",
    "    \n",
    "    return future_H\n",
    "\n",
    "def phi_AR(A,R):\n",
    "    num = A**2 + K_gli*A\n",
    "    den = A**2 + 2*K_gli*A + 2*K_gli*R + 2*A*R + R**2 + K_gli**2\n",
    "    return num/den\n",
    "\n",
    "\n",
    "def update_P(H, A, P, R, C, t):\n",
    "    phi = phi_AR(A,R)\n",
    "    n = len(H)\n",
    "    delta = ((alpha_ptc)*np.ones(n)) + ((alpha_ptc)*beta*phi) - (gamma_p*P) - (k_on*H*P) + (k_off*C)\n",
    "    future_P = P + delta*t\n",
    "    \n",
    "    for i in range(n):\n",
    "        if future_P[i] < 0:\n",
    "            future_P[i] = 0\n",
    "    return future_P\n",
    "    \n",
    "def update_C(H, P, C, t):\n",
    "    n = len(H)\n",
    "    delta = (k_on*H*P) - (k_off*C) - (gamma_c*C)\n",
    "    future_C = C + delta*t\n",
    "    \n",
    "    for i in range(n):\n",
    "        if future_C[i] < 0:\n",
    "            future_C[i] = 0\n",
    "            \n",
    "    return future_C\n",
    "\n",
    "def update_F2(A,R,P,F2,t):\n",
    "    phi = phi_AR(A,R)\n",
    "    g1 = alpha_f*(1+beta_fl*phi)\n",
    "    g2 = alpha_a*((K_p**n_p)/((K_p**n_p)+(P**n_p))) + alpha_R2 + gamma_f\n",
    "    delta = (g1 - g2*F2)\n",
    "    updated_F2 = F2 + delta*t\n",
    "    return updated_F2\n",
    "\n",
    "def update_F3(P,F3,t):\n",
    "    delta = alpha_f - (alpha_a*((K_p**n_p)/((K_p**n_p)+(P**n_p))) + alpha_R3 + gamma_f)*F3\n",
    "    updated_F3 = F3 + delta*t\n",
    "    return updated_F3   \n",
    "\n",
    "def update_R(F2, F3, R, t):\n",
    "    delta = alpha_R2*F2 + alpha_R3*F3 - gamma_R*R\n",
    "    updated_R = R + delta*t\n",
    "    return updated_R\n",
    "    \n",
    "def update_A(P, F2, F3, A, t):\n",
    "    delta = alpha_a*((K_p**n_p)/((K_p**n_p)+(P**n_p)))*(F2+F3) - gamma_a*A\n",
    "    updated_A = A + delta*t\n",
    "    return updated_A\n",
    "\n",
    "def update_S(R, A, S, t):\n",
    "    phi = phi_AR(A,R)\n",
    "    n = len(R)\n",
    "    delta = (alpha_GBS0*np.ones(n)) + (alpha_GBS*phi) #*1000\n",
    "    future_S = S + delta*t\n",
    "    \n",
    "    for i in range(n):\n",
    "        if future_S[i] < 0:\n",
    "            future_S[i] = 0\n",
    "    return future_S"
   ]
  },
  {
   "cell_type": "code",
   "execution_count": 5,
   "metadata": {},
   "outputs": [],
   "source": [
    "def integrate_solution(final_time, time_step, n):\n",
    "    #all constants start at zero\n",
    "    H = np.zeros(n)\n",
    "    C = np.zeros(n)\n",
    "    S = np.zeros(n)\n",
    "    F2 = np.zeros(n)\n",
    "    F3 = np.zeros(n)\n",
    "    A = np.zeros(n)\n",
    "    P = np.zeros(n)\n",
    "    R = np.zeros(n) #188.735*np.ones(n)\n",
    "    time = 0\n",
    "    \n",
    "    hrs = int(np.floor( final_time / 60)); #number of hours we will simulate over\n",
    "    #make arrays to hold the values of each protein at each grid point at each hour\n",
    "    H_vals = np.zeros((hrs+1,n));\n",
    "    H_vals[0] = H; #initialize at t=0\n",
    "    C_vals = np.zeros((hrs+1,n));\n",
    "    C_vals[0] = C; #initialize at t=0\n",
    "    S_vals = np.zeros((hrs+1,n));\n",
    "    S_vals[0] = S; #initialize at t=0\n",
    "    P_vals = np.zeros((hrs+1,n));\n",
    "    P_vals[0] = P; #initialize at t=0\n",
    "    R_vals = np.zeros((hrs+1,n));\n",
    "    R_vals[0] = R; #initialize at t=0\n",
    "    F2_vals = np.zeros((hrs+1,n));\n",
    "    F2_vals[0] = F2; #initialize at t=0\n",
    "    F3_vals = np.zeros((hrs+1,n));\n",
    "    F3_vals[0] = F3; #initialize at t=0\n",
    "    A_vals = np.zeros((hrs+1,n));\n",
    "    A_vals[0] = A; #initialize at t=0\n",
    "    \n",
    "    steps_each_hr = 60 / time_step + 1;\n",
    "    steps = 0\n",
    "    \n",
    "    while time<final_time:\n",
    "#         print(time)\n",
    "        #calculate the updates for each protein\n",
    "#         H_upd = update_H(H, P, C, time_step);\n",
    "        P_upd = update_P(H, A, P, R, C, time_step);\n",
    "        C_upd = update_C(H, P, C, time_step);\n",
    "        F2_upd = update_F2(A,R,P,F2,time_step);\n",
    "        F3_upd = update_F3(P,F3,time_step);\n",
    "        R_upd = update_R(F2, F3, R, time_step);\n",
    "        A_upd = update_A(P, F2, F3, A, time_step);\n",
    "        S_upd = update_S(R, A, S, time_step);\n",
    "        #reassign each protein to new concentrations\n",
    "#         H = H_upd;\n",
    "        P = P_upd;\n",
    "        C = C_upd;\n",
    "        F2 = F2_upd;\n",
    "        F3 = F3_upd;\n",
    "        R = R_upd;\n",
    "        A = A_upd;\n",
    "        S = S_upd;\n",
    "        \n",
    "        time += time_step #increment total time\n",
    "        steps +=1;\n",
    "        if steps == steps_each_hr : #we've reached an hour\n",
    "            #store protein concentrations at each grid point for this hour\n",
    "            index = int(time / 60);\n",
    "            print(\"Index to insert at:\", index);\n",
    "            H_vals[index] = H;\n",
    "            P_vals[index] = P;\n",
    "            C_vals[index] = C;\n",
    "            F2_vals[index] = F2;\n",
    "            F3_vals[index] = F3;\n",
    "            R_vals[index] = R;\n",
    "            A_vals[index] = A;\n",
    "            S_vals[index] = S;\n",
    "            steps = 0; #reinitialize steps\n",
    "        #add results from last time step to matrices\n",
    "        H_vals[-1] = H;\n",
    "        P_vals[-1] = P;\n",
    "        C_vals[-1] = C;\n",
    "        F2_vals[-1] = F2;\n",
    "        F3_vals[-1] = F3;\n",
    "        R_vals[-1] = R;\n",
    "        A_vals[-1] = A;\n",
    "        S_vals[-1] = S;\n",
    "        \n",
    "        \n",
    "    return H_vals, P_vals, C_vals, R_vals, S_vals, F2_vals, F3_vals, A_vals;"
   ]
  },
  {
   "cell_type": "code",
   "execution_count": 6,
   "metadata": {
    "scrolled": true
   },
   "outputs": [
    {
     "name": "stdout",
     "output_type": "stream",
     "text": [
      "Index to insert at: 1\n",
      "Index to insert at: 2\n",
      "Index to insert at: 3\n",
      "Index to insert at: 4\n",
      "Index to insert at: 5\n",
      "Index to insert at: 6\n",
      "Index to insert at: 7\n",
      "Index to insert at: 8\n",
      "Index to insert at: 9\n",
      "Index to insert at: 10\n",
      "Index to insert at: 11\n",
      "Index to insert at: 12\n",
      "Index to insert at: 13\n",
      "Index to insert at: 14\n",
      "Index to insert at: 15\n",
      "Index to insert at: 16\n",
      "Index to insert at: 17\n",
      "Index to insert at: 18\n",
      "Index to insert at: 19\n",
      "Index to insert at: 20\n",
      "Index to insert at: 21\n",
      "Index to insert at: 22\n",
      "Index to insert at: 23\n",
      "Index to insert at: 24\n",
      "Index to insert at: 25\n",
      "Index to insert at: 26\n",
      "Index to insert at: 27\n",
      "Index to insert at: 28\n",
      "Index to insert at: 29\n",
      "Index to insert at: 30\n",
      "Index to insert at: 31\n",
      "Index to insert at: 32\n",
      "Index to insert at: 33\n",
      "Index to insert at: 34\n",
      "Index to insert at: 35\n",
      "Index to insert at: 36\n",
      "Index to insert at: 37\n",
      "Index to insert at: 38\n",
      "Index to insert at: 39\n",
      "Index to insert at: 40\n",
      "Index to insert at: 41\n",
      "Index to insert at: 42\n",
      "Index to insert at: 43\n",
      "Index to insert at: 44\n",
      "Index to insert at: 45\n",
      "Index to insert at: 46\n",
      "Index to insert at: 47\n",
      "Index to insert at: 48\n",
      "Index to insert at: 49\n",
      "Time: 0.04167981666666667 min\n"
     ]
    }
   ],
   "source": [
    "from time import clock\n",
    "\n",
    "c = clock();\n",
    "hrs_to_sim = 50;\n",
    "H, P, C, R, S, F2, F3, A = integrate_solution(hrs_to_sim*60, 1, 500);\n",
    "stop = clock();\n",
    "\n",
    "print(\"Time: {0} min\".format( (stop-c)/60 ) );"
   ]
  },
  {
   "cell_type": "code",
   "execution_count": 7,
   "metadata": {},
   "outputs": [
    {
     "name": "stdout",
     "output_type": "stream",
     "text": [
      "51\n",
      "51\n",
      "51\n",
      "51\n",
      "51\n"
     ]
    }
   ],
   "source": [
    "prots = [H, P, C, R, S];\n",
    "names = [\"H\", \"P\", \"C\", \"R\", \"S\"];\n",
    "\n",
    "for i, p in enumerate(prots):\n",
    "    print(len(p))\n",
    "    file_name = \"{0}_concentrations_30_hr_sim.csv\".format(names[i]);\n",
    "    np.savetxt(file_name, p, delimiter=\",\");"
   ]
  },
  {
   "cell_type": "code",
   "execution_count": 30,
   "metadata": {},
   "outputs": [
    {
     "data": {
      "text/plain": [
       "[<matplotlib.lines.Line2D at 0x1513c67f28>]"
      ]
     },
     "execution_count": 30,
     "metadata": {},
     "output_type": "execute_result"
    },
    {
     "data": {
      "image/png": "[encoded data removed]",
      "text/plain": [
       "<Figure size 432x288 with 1 Axes>"
      ]
     },
     "metadata": {},
     "output_type": "display_data"
    }
   ],
   "source": [
    "a = P;\n",
    "maxes =  np.max(a, axis=1) - np.min(a, axis = 1);\n",
    "plt.plot(maxes)\n"
   ]
  },
  {
   "cell_type": "code",
   "execution_count": 36,
   "metadata": {},
   "outputs": [
    {
     "data": {
      "text/plain": [
       "6.058998472617144"
      ]
     },
     "execution_count": 36,
     "metadata": {},
     "output_type": "execute_result"
    }
   ],
   "source": [
    "np.max(A)"
   ]
  },
  {
   "cell_type": "markdown",
   "metadata": {},
   "source": [
    "Steady-state values for proteins\n",
    "\n",
    "F2 = 125.156\n",
    "F3 = 22.173\n",
    "R = 551.563\n",
    "A = 6.0590\n",
    "P = 4.0124\n",
    "\n",
    "\n"
   ]
  }
 ],
 "metadata": {
  "kernelspec": {
   "display_name": "Python 3",
   "language": "python",
   "name": "python3"
  },
  "language_info": {
   "codemirror_mode": {
    "name": "ipython",
    "version": 3
   },
   "file_extension": ".py",
   "mimetype": "text/x-python",
   "name": "python",
   "nbconvert_exporter": "python",
   "pygments_lexer": "ipython3",
   "version": "3.6.5"
  }
 },
 "nbformat": 4,
 "nbformat_minor": 2
}
