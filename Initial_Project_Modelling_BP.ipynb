{
 "cells": [
  {
   "cell_type": "code",
   "execution_count": 1,
   "metadata": {},
   "outputs": [],
   "source": [
    "import numpy as np\n",
    "from scipy.optimize import minimize\n",
    "import matplotlib\n",
    "import numpy as np\n",
    "import matplotlib.cm as cm\n",
    "import matplotlib.mlab as mlab\n",
    "import matplotlib.pyplot as plt\n",
    "import math\n",
    "import scipy.optimize as optimize\n",
    "from scipy import integrate\n",
    "from matplotlib import rcParams"
   ]
  },
  {
   "cell_type": "code",
   "execution_count": 137,
   "metadata": {},
   "outputs": [],
   "source": [
    "#Define parameters from paper\n",
    "\n",
    "alpha_ptc = 0.024\n",
    "gamma_p = 0.006\n",
    "gamma_c = 0.1539\n",
    "K_h = 2.2771\n",
    "k_off = 0.3018\n",
    "k_on = K_h * k_off\n",
    "K_p = 0.5660\n",
    "n_p = 0.9\n",
    "alpha_R = 0.3908\n",
    "gamma_R = 0.002\n",
    "K_R = 8.5184\n",
    "n_R = 1.5735\n",
    "alpha_GBS = 5.6881e-3\n",
    "alpha_GBS0 = 9.8715e-5\n",
    "D_diff = 58.3931\n",
    "alpha_HH = 0.5431\n",
    "gamma_H = 8.1346e-4\n",
    "beta = 36\n",
    "m = 1.8657"
   ]
  },
  {
   "cell_type": "markdown",
   "metadata": {},
   "source": [
    "P = 4(1+36(29.10169999684341/(29.10169999684341+(195.39999999999998((P^0.9)/((P^0.9) + 0.5991489300104573))))))\n",
    "\n",
    "R = 195.39999999999998((23.2376^0.9)/((23.2376^0.9) + 0.5991489300104573))\n",
    "\n",
    "gives us:\n",
    "\n",
    "P = 23.2376\n",
    "\n",
    "R = 188.735"
   ]
  },
  {
   "cell_type": "code",
   "execution_count": null,
   "metadata": {},
   "outputs": [],
   "source": []
  },
  {
   "cell_type": "code",
   "execution_count": 341,
   "metadata": {},
   "outputs": [],
   "source": [
    "def d_matrix(n):\n",
    "    h = 1/(n-1)\n",
    "    D = (-2*np.identity(n))/(h**2)\n",
    "    for i in range(n-1):\n",
    "        D[i, i+1] = 1/(h**2)\n",
    "        D[i+1, i] = 1/(h**2)\n",
    "    D[0] = 0\n",
    "    return D"
   ]
  },
  {
   "cell_type": "code",
   "execution_count": 342,
   "metadata": {},
   "outputs": [
    {
     "data": {
      "text/plain": [
       "array([[  0.,   0.,   0.,   0.,   0.],\n",
       "       [ 16., -32.,  16.,  -0.,  -0.],\n",
       "       [ -0.,  16., -32.,  16.,  -0.],\n",
       "       [ -0.,  -0.,  16., -32.,  16.],\n",
       "       [ -0.,  -0.,  -0.,  16., -32.]])"
      ]
     },
     "execution_count": 342,
     "metadata": {},
     "output_type": "execute_result"
    }
   ],
   "source": [
    "d_matrix(5)"
   ]
  },
  {
   "cell_type": "code",
   "execution_count": 343,
   "metadata": {},
   "outputs": [],
   "source": [
    "A = np.zeros((N-2,N-2));\n",
    "B = np.zeros((N-2,N-2));\n",
    "b = np.zeros((N-2));\n",
    "r \n",
    "#define matrices A, B and b array\n",
    "for i in range(N-2):\n",
    "    if i==0:\n",
    "        A[i,:] = [2+2*r if j==0 else (-r) if j==1 else 0 for j in range(N-2)]\n",
    "        B[i,:] = [2-2*r if j==0 else r if j==1 else 0 for j in range(N-2)]\n",
    "        b[i] = 0. #boundary condition at i=1\n",
    "    elif i==N-3:\n",
    "        A[i,:] = [-r if j==N-4 else 2+2*r if j==N-3 else 0 for j in range(N-2)]\n",
    "        B[i,:] = [r if j==N-4 else 2-2*r if j==N-3 else 0 for j in range(N-2)]\n",
    "        b[i] = 0. #boundary condition at i=N\n",
    "    else:\n",
    "        A[i,:] = [-r if j==i-1 or j==i+1 else 2+2*r if j==i else 0 for j in range(N-2)]\n",
    "        B[i,:] = [r if j==i-1 or j==i+1 else 2-2*r if j==i else 0 for j in range(N-2)]\n",
    "\n",
    "def crank_nicolson(H):\n",
    "    \n",
    "\n",
    "def delta_H(H, P, D, C, n, t):\n",
    "    \n",
    "    delta = D_diff*crank_nicolson(H) - (gamma_H*H) - (k_on*H*P) + (k_off*C)\n",
    "    delta[n-1] = 0\n",
    "    for i in range(n):\n",
    "        if H[i] + (delta[i]*t) < 0:\n",
    "            delta[i] = -H[i]/t\n",
    "    return delta\n",
    "\n",
    "def phi_R(R, n):\n",
    "    phi = np.zeros(n)\n",
    "    for i in range(n):\n",
    "        phi[i] = (K_R**n_R)/((K_R**n_R)+(R[i]**n_R))\n",
    "    return phi\n",
    "\n",
    "def delta_P(H, P, R, C, n, t):\n",
    "    delta = (alpha_ptc*np.ones(n)) + (alpha_ptc*beta*phi_R(R, n)) - (gamma_p*P) - (k_on*H*P) + (k_off*C)\n",
    "    for i in range(n):\n",
    "        if P[i] + (delta[i]*t) < 0:\n",
    "            delta[i] = -P[i]/t\n",
    "    return delta\n",
    "\n",
    "def delta_C(H, P, C, n, t):\n",
    "    delta = (k_on*H*P) - (k_off*C) - (gamma_c*C)\n",
    "    for i in range(n):\n",
    "        if C[i] + (delta[i]*t) < 0:\n",
    "            delta[i] = -C[i]/t\n",
    "    return delta\n",
    "\n",
    "def delta_R(P, R, n, t):\n",
    "    delta = np.zeros(n)\n",
    "    for i in range(n):\n",
    "        delta[i] = (alpha_R*(P[i]**n_p)/((K_p**n_p)-(P[i]**n_p))) - (gamma_R*R[i])\n",
    "    for i in range(n):\n",
    "        if R[i] + (delta[i]*t) < 0:\n",
    "            delta[i] = -R[i]/t\n",
    "    return delta\n",
    "\n",
    "def delta_S(R, n, t):\n",
    "    delta = (alpha_GBS0*np.ones(n)) - (alpha_GBS*phi_R(R, n))\n",
    "    for i in range(n):\n",
    "        if S[i] + (delta[i]*t) < 0:\n",
    "            delta[i] = -S[i]/t\n",
    "    return delta"
   ]
  },
  {
   "cell_type": "code",
   "execution_count": 346,
   "metadata": {},
   "outputs": [],
   "source": [
    "def integrate_system(final_time, time_step, n):\n",
    "    H = np.zeros(n)\n",
    "    C = np.zeros(n)\n",
    "    S = np.zeros(n)\n",
    "    \n",
    "    P = 23.2376*np.ones(n)\n",
    "    R = 188.735*np.ones(n)\n",
    "    step_P = np.inf\n",
    "    step_R = np.inf\n",
    "    tol = 0.001\n",
    "    D = d_matrix(n)\n",
    "    time = 0\n",
    "    \n",
    "    while time<final_time:\n",
    "        H[0] += alpha_HH*time_step\n",
    "        step_H = delta_H(H, P, D, C, n, time_step)\n",
    "        step_P = delta_P(H, P, R, C, n, time_step)\n",
    "        step_C = delta_C(H, P, C, n, time_step)\n",
    "        step_R = delta_R(P, R, n, time_step)\n",
    "        step_S = delta_S(R, n, time_step)\n",
    "        H += time_step*step_H\n",
    "        P += time_step*step_P\n",
    "        C += time_step*step_C\n",
    "        R += time_step*step_R\n",
    "        S += time_step*step_S\n",
    "        \n",
    "        time += time_step\n",
    "        \n",
    "    return H, P, C, R, S"
   ]
  },
  {
   "cell_type": "code",
   "execution_count": 347,
   "metadata": {
    "scrolled": false
   },
   "outputs": [],
   "source": [
    "H, P, C, R, S = integrate_system(100, 0.01, 100)"
   ]
  },
  {
   "cell_type": "code",
   "execution_count": 348,
   "metadata": {},
   "outputs": [
    {
     "data": {
      "text/plain": [
       "array([29.95204897,  0.        ,  0.        ,  0.        ,  0.        ,\n",
       "        0.        ,  0.        ,  0.        ,  0.        ,  0.        ,\n",
       "        0.        ,  0.        ,  0.        ,  0.        ,  0.        ,\n",
       "        0.        ,  0.        ,  0.        ,  0.        ,  0.        ,\n",
       "        0.        ,  0.        ,  0.        ,  0.        ,  0.        ,\n",
       "        0.        ,  0.        ,  0.        ,  0.        ,  0.        ,\n",
       "        0.        ,  0.        ,  0.        ,  0.        ,  0.        ,\n",
       "        0.        ,  0.        ,  0.        ,  0.        ,  0.        ,\n",
       "        0.        ,  0.        ,  0.        ,  0.        ,  0.        ,\n",
       "        0.        ,  0.        ,  0.        ,  0.        ,  0.        ,\n",
       "        0.        ,  0.        ,  0.        ,  0.        ,  0.        ,\n",
       "        0.        ,  0.        ,  0.        ,  0.        ,  0.        ,\n",
       "        0.        ,  0.        ,  0.        ,  0.        ,  0.        ,\n",
       "        0.        ,  0.        ,  0.        ,  0.        ,  0.        ,\n",
       "        0.        ,  0.        ,  0.        ,  0.        ,  0.        ,\n",
       "        0.        ,  0.        ,  0.        ,  0.        ,  0.        ,\n",
       "        0.        ,  0.        ,  0.        ,  0.        ,  0.        ,\n",
       "        0.        ,  0.        ,  0.        ,  0.        ,  0.        ,\n",
       "        0.        ,  0.        ,  0.        ,  0.        ,  0.        ,\n",
       "        0.        ,  0.        ,  0.        ,  0.        ,  0.        ])"
      ]
     },
     "execution_count": 348,
     "metadata": {},
     "output_type": "execute_result"
    }
   ],
   "source": [
    "H"
   ]
  },
  {
   "cell_type": "code",
   "execution_count": 340,
   "metadata": {},
   "outputs": [
    {
     "data": {
      "image/png": "[encoded data removed]",
      "text/plain": [
       "<Figure size 1080x504 with 1 Axes>"
      ]
     },
     "metadata": {},
     "output_type": "display_data"
    }
   ],
   "source": [
    "fig, ax = plt.subplots(figsize=(15, 7))\n",
    "ax.grid(True, lw=1.76, ls='--', alpha = 0.15)\n",
    "plt.plot(H, '', color = 'b', ms =10)\n",
    "plt.show()"
   ]
  },
  {
   "cell_type": "code",
   "execution_count": null,
   "metadata": {},
   "outputs": [],
   "source": []
  }
 ],
 "metadata": {
  "kernelspec": {
   "display_name": "Python 3",
   "language": "python",
   "name": "python3"
  },
  "language_info": {
   "codemirror_mode": {
    "name": "ipython",
    "version": 3
   },
   "file_extension": ".py",
   "mimetype": "text/x-python",
   "name": "python",
   "nbconvert_exporter": "python",
   "pygments_lexer": "ipython3",
   "version": "3.6.5"
  }
 },
 "nbformat": 4,
 "nbformat_minor": 2
}
