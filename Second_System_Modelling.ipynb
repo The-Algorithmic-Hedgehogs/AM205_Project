{
 "cells": [
  {
   "cell_type": "markdown",
   "metadata": {},
   "source": [
    "https://www.cell.com/cms/10.1016/j.cell.2011.10.047/attachment/117b6d14-799a-4f63-ac31-d40a323ddefa/mmc1.pdf\n"
   ]
  },
  {
   "cell_type": "code",
   "execution_count": 13,
   "metadata": {},
   "outputs": [],
   "source": [
    "import numpy as np\n",
    "import matplotlib.pyplot as plt"
   ]
  },
  {
   "cell_type": "code",
   "execution_count": 10,
   "metadata": {},
   "outputs": [],
   "source": [
    "# parameters:\n",
    "alpha = 3 # Pmax\n",
    "beta = 5 # Omax\n",
    "gamma = 5 # Nmax\n",
    "h1 = 6 # N repression of P strength\n",
    "h2 = 2 # O repression of P strength\n",
    "h3 = 5 # N repression of O strength\n",
    "h4 = 1 # O rep of N str\n",
    "h5 = 1 # P rep of N str\n",
    "k1 = 1 # P degradation\n",
    "k2 = 1 # O deg\n",
    "k3 = 1 # N deg\n",
    "\n",
    "# XcritY is the critical value of X for which y is half maximal\n",
    "OcritP = 1\n",
    "NcritP = 1\n",
    "OcritN = 1\n",
    "NcritO = 1\n",
    "PcritN = 1\n",
    "n = 1 # Hill coef of G on O\n",
    "m = 1 # Hill coef of G on N\n",
    "\n",
    "P0 = 3 # starting value for P\n",
    "O0 = 0 # starting value for O\n",
    "N0 = 0 # starting value for N"
   ]
  },
  {
   "cell_type": "code",
   "execution_count": 11,
   "metadata": {},
   "outputs": [],
   "source": [
    "# ODEs:\n",
    "\n",
    "def dP(N,O,P,G):\n",
    "    Nfrac = (N/NcritP)**h1\n",
    "    Ofrac = (O/OcritP)**h2\n",
    "    denom = 1 + Nfrac + Ofrac\n",
    "    frac = alpha/denom\n",
    "    return(frac-k1*P)\n",
    "\n",
    "def dO(N,O,P,G):\n",
    "    Gterm = (beta*G)/(1+G)\n",
    "    Nfrac = (N/NcritO)**h3\n",
    "    frac = 1/(1+Nfrac)\n",
    "    return(Gterm*frac-k2*O)\n",
    "\n",
    "def dN(N,O,P,G):\n",
    "    Gterm = (gamma*G)/(1+G)\n",
    "    Ofrac = (O/OcritN)**h4\n",
    "    Pfrac = (P/PcritN)**h5\n",
    "    frac = 1/(1+Ofrac+Pfrac)\n",
    "    return(Gterm*frac - k3*N)"
   ]
  },
  {
   "cell_type": "code",
   "execution_count": 25,
   "metadata": {},
   "outputs": [],
   "source": [
    "t = 20\n",
    "h = 0.01\n",
    "n = int(t/h)\n",
    "\n",
    "N = N0\n",
    "O = O0\n",
    "P = P0\n",
    "G = 5 # level used in Briscoe Paper\n",
    "\n",
    "ts = np.linspace(0,t,n)\n",
    "Ns = np.zeros(n)\n",
    "Os = np.zeros(n)\n",
    "Ps = np.zeros(n)\n",
    "Ns[0] = N0\n",
    "Os[0] = O0\n",
    "Ps[0] = P0\n",
    "for i in range(1,n):\n",
    "    N = N + h*dN(N,O,P,G)\n",
    "    O = O + h*dO(N,O,P,G)\n",
    "    P = P + h*dP(N,O,P,G)  \n",
    "    Ns[i] = N\n",
    "    Os[i] = O\n",
    "    Ps[i] = P"
   ]
  },
  {
   "cell_type": "code",
   "execution_count": 24,
   "metadata": {},
   "outputs": [
    {
     "data": {
      "image/png": "[encoded data removed]",
      "text/plain": [
       "<matplotlib.figure.Figure at 0x11848edd8>"
      ]
     },
     "metadata": {},
     "output_type": "display_data"
    }
   ],
   "source": [
    "plt.plot(ts,Ns, label=\"N\")\n",
    "plt.plot(ts,Os, label=\"O\")\n",
    "plt.plot(ts,Ps, label=\"P\")\n",
    "plt.legend()\n",
    "plt.show()"
   ]
  },
  {
   "cell_type": "code",
   "execution_count": null,
   "metadata": {},
   "outputs": [],
   "source": []
  },
  {
   "cell_type": "code",
   "execution_count": null,
   "metadata": {},
   "outputs": [],
   "source": []
  },
  {
   "cell_type": "code",
   "execution_count": null,
   "metadata": {},
   "outputs": [],
   "source": []
  }
 ],
 "metadata": {
  "kernelspec": {
   "display_name": "Python 3",
   "language": "python",
   "name": "python3"
  },
  "language_info": {
   "codemirror_mode": {
    "name": "ipython",
    "version": 3
   },
   "file_extension": ".py",
   "mimetype": "text/x-python",
   "name": "python",
   "nbconvert_exporter": "python",
   "pygments_lexer": "ipython3",
   "version": "3.6.2"
  }
 },
 "nbformat": 4,
 "nbformat_minor": 2
}
