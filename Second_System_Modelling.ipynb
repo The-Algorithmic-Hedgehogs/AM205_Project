{
 "cells": [
  {
   "cell_type": "markdown",
   "metadata": {},
   "source": [
    "https://www.cell.com/cms/10.1016/j.cell.2011.10.047/attachment/117b6d14-799a-4f63-ac31-d40a323ddefa/mmc1.pdf\n"
   ]
  },
  {
   "cell_type": "code",
   "execution_count": 1,
   "metadata": {},
   "outputs": [],
   "source": [
    "# parameters:\n",
    "alpha = 3 # Pmax\n",
    "beta = 5 # Omax\n",
    "gamma = 5 # Nmax\n",
    "h1 = 6 # N repression of P strength\n",
    "h2 = 2 # O repression of P strength\n",
    "h3 = 5 # N repression of O strength\n",
    "h4 = 1 # O rep of N str\n",
    "h5 = 1 # P rep of N str\n",
    "k1 = 1 # P degradation\n",
    "k2 = 1 # O deg\n",
    "k3 = 1 # N deg\n",
    "\n",
    "# XcritY is the critical value of X for which y is half maximal\n",
    "OcritP = 1\n",
    "NcritP = 1\n",
    "OcritN = 1\n",
    "NcritO = 1\n",
    "PcritN = 1\n",
    "n = 1 # Hill coef of G on O\n",
    "m = 1 # Hill coef of G on N\n",
    "\n",
    "P0 = 3 # starting value for P\n",
    "O0 = 0 # starting value for O\n",
    "N0 = 0 # starting value for N"
   ]
  },
  {
   "cell_type": "code",
   "execution_count": 2,
   "metadata": {},
   "outputs": [],
   "source": [
    "# ODEs:\n",
    "\n",
    "def dP(N,O,P,G):\n",
    "    Nfrac = (N/NcritP)**h1\n",
    "    Ofrac = (O/OcritP)**h2\n",
    "    denom = 1 + Nfrac + Ofrac\n",
    "    frac = alpha/denom\n",
    "    return(frac-k1*P)\n",
    "\n",
    "def dO(N,O,P,G):\n",
    "    Gterm = (beta*G)/(1+G)\n",
    "    Nfrac = (N/NcritO)**h3\n",
    "    frac = 1/(1+Nfrac)\n",
    "    return(Gterm*frac-k2*O)\n",
    "\n",
    "def dN(N,O,P,G):\n",
    "    Gterm = (gamma*G)/(1+G)\n",
    "    Ofrac = (O/OcritN)**h4\n",
    "    Pfrac = (P/PcritN)**h5\n",
    "    frac = 1/(1+Ofrac+Pfrac)\n",
    "    return(Gterm*frac - k3*N)"
   ]
  },
  {
   "cell_type": "code",
   "execution_count": null,
   "metadata": {},
   "outputs": [],
   "source": []
  }
 ],
 "metadata": {
  "kernelspec": {
   "display_name": "Python 3",
   "language": "python",
   "name": "python3"
  },
  "language_info": {
   "codemirror_mode": {
    "name": "ipython",
    "version": 3
   },
   "file_extension": ".py",
   "mimetype": "text/x-python",
   "name": "python",
   "nbconvert_exporter": "python",
   "pygments_lexer": "ipython3",
   "version": "3.6.2"
  }
 },
 "nbformat": 4,
 "nbformat_minor": 2
}
